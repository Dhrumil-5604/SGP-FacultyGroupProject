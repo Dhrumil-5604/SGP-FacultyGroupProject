{
 "cells": [
  {
   "cell_type": "code",
   "execution_count": 1,
   "id": "91d2f33e",
   "metadata": {},
   "outputs": [
    {
     "name": "stderr",
     "output_type": "stream",
     "text": [
      "[nltk_data] Error loading punkt: <urlopen error [Errno 11001]\n",
      "[nltk_data]     getaddrinfo failed>\n"
     ]
    }
   ],
   "source": [
    "import numpy as np\n",
    "import pandas as pd\n",
    "import matplotlib.pyplot as plt\n",
    "import seaborn as sns\n",
    "import nltk\n",
    "nltk.download('punkt')\n",
    "\n",
    "from nltk.tokenize import word_tokenize\n",
    "from keras.preprocessing.text import Tokenizer\n",
    "from tensorflow.keras.preprocessing.sequence import pad_sequences\n",
    "from keras.models import Sequential \n",
    "from keras.layers import Embedding , Dense , LSTM, Dropout\n",
    "from sklearn.preprocessing import LabelEncoder \n",
    "\n",
    "import warnings\n",
    "warnings.filterwarnings('ignore')\n",
    "sns.set()\n"
   ]
  },
  {
   "cell_type": "code",
   "execution_count": 2,
   "id": "033af0ba",
   "metadata": {},
   "outputs": [],
   "source": [
    "imdb = pd.read_csv('IMDB Dataset.csv')"
   ]
  },
  {
   "cell_type": "code",
   "execution_count": 3,
   "id": "00f1870c",
   "metadata": {},
   "outputs": [
    {
     "data": {
      "text/html": [
       "<div>\n",
       "<style scoped>\n",
       "    .dataframe tbody tr th:only-of-type {\n",
       "        vertical-align: middle;\n",
       "    }\n",
       "\n",
       "    .dataframe tbody tr th {\n",
       "        vertical-align: top;\n",
       "    }\n",
       "\n",
       "    .dataframe thead th {\n",
       "        text-align: right;\n",
       "    }\n",
       "</style>\n",
       "<table border=\"1\" class=\"dataframe\">\n",
       "  <thead>\n",
       "    <tr style=\"text-align: right;\">\n",
       "      <th></th>\n",
       "      <th>review</th>\n",
       "      <th>sentiment</th>\n",
       "    </tr>\n",
       "  </thead>\n",
       "  <tbody>\n",
       "    <tr>\n",
       "      <th>0</th>\n",
       "      <td>One of the other reviewers has mentioned that ...</td>\n",
       "      <td>positive</td>\n",
       "    </tr>\n",
       "    <tr>\n",
       "      <th>1</th>\n",
       "      <td>A wonderful little production. &lt;br /&gt;&lt;br /&gt;The...</td>\n",
       "      <td>positive</td>\n",
       "    </tr>\n",
       "    <tr>\n",
       "      <th>2</th>\n",
       "      <td>I thought this was a wonderful way to spend ti...</td>\n",
       "      <td>positive</td>\n",
       "    </tr>\n",
       "    <tr>\n",
       "      <th>3</th>\n",
       "      <td>Basically there's a family where a little boy ...</td>\n",
       "      <td>negative</td>\n",
       "    </tr>\n",
       "    <tr>\n",
       "      <th>4</th>\n",
       "      <td>Petter Mattei's \"Love in the Time of Money\" is...</td>\n",
       "      <td>positive</td>\n",
       "    </tr>\n",
       "  </tbody>\n",
       "</table>\n",
       "</div>"
      ],
      "text/plain": [
       "                                              review sentiment\n",
       "0  One of the other reviewers has mentioned that ...  positive\n",
       "1  A wonderful little production. <br /><br />The...  positive\n",
       "2  I thought this was a wonderful way to spend ti...  positive\n",
       "3  Basically there's a family where a little boy ...  negative\n",
       "4  Petter Mattei's \"Love in the Time of Money\" is...  positive"
      ]
     },
     "execution_count": 3,
     "metadata": {},
     "output_type": "execute_result"
    }
   ],
   "source": [
    "imdb.head()"
   ]
  },
  {
   "cell_type": "code",
   "execution_count": 4,
   "id": "69d4fb7a",
   "metadata": {},
   "outputs": [
    {
     "data": {
      "text/plain": [
       "positive    25000\n",
       "negative    25000\n",
       "Name: sentiment, dtype: int64"
      ]
     },
     "execution_count": 4,
     "metadata": {},
     "output_type": "execute_result"
    }
   ],
   "source": [
    "imdb.sentiment.value_counts() #independent values "
   ]
  },
  {
   "cell_type": "code",
   "execution_count": 5,
   "id": "c1339ea9",
   "metadata": {},
   "outputs": [
    {
     "name": "stdout",
     "output_type": "stream",
     "text": [
      "One of the other reviewers has mentioned that after watching just 1 Oz episode you'll be hooked. They are right, as this is exactly what happened with me.<br /><br />The first thing that struck me about Oz was its brutality and unflinching scenes of violence, which set in right from the word GO. Trust me, this is not a show for the faint hearted or timid. This show pulls no punches with regards to drugs, sex or violence. Its is hardcore, in the classic use of the word.<br /><br />It is called OZ as that is the nickname given to the Oswald Maximum Security State Penitentary. It focuses mainly on Emerald City, an experimental section of the prison where all the cells have glass fronts and face inwards, so privacy is not high on the agenda. Em City is home to many..Aryans, Muslims, gangstas, Latinos, Christians, Italians, Irish and more....so scuffles, death stares, dodgy dealings and shady agreements are never far away.<br /><br />I would say the main appeal of the show is due to the fact that it goes where other shows wouldn't dare. Forget pretty pictures painted for mainstream audiences, forget charm, forget romance...OZ doesn't mess around. The first episode I ever saw struck me as so nasty it was surreal, I couldn't say I was ready for it, but as I watched more, I developed a taste for Oz, and got accustomed to the high levels of graphic violence. Not just violence, but injustice (crooked guards who'll be sold out for a nickel, inmates who'll kill on order and get away with it, well mannered, middle class inmates being turned into prison bitches due to their lack of street skills or prison experience) Watching Oz, you may become comfortable with what is uncomfortable viewing....thats if you can get in touch with your darker side.\n",
      "<=================================>\n",
      "['One', 'of', 'the', 'other', 'reviewers', 'has', 'mentioned', 'that', 'after', 'watching', 'just', '1', 'Oz', 'episode', 'you', \"'ll\", 'be', 'hooked', '.', 'They', 'are', 'right', ',', 'as', 'this', 'is', 'exactly', 'what', 'happened', 'with', 'me.', '<', 'br', '/', '>', '<', 'br', '/', '>', 'The', 'first', 'thing', 'that', 'struck', 'me', 'about', 'Oz', 'was', 'its', 'brutality', 'and', 'unflinching', 'scenes', 'of', 'violence', ',', 'which', 'set', 'in', 'right', 'from', 'the', 'word', 'GO', '.', 'Trust', 'me', ',', 'this', 'is', 'not', 'a', 'show', 'for', 'the', 'faint', 'hearted', 'or', 'timid', '.', 'This', 'show', 'pulls', 'no', 'punches', 'with', 'regards', 'to', 'drugs', ',', 'sex', 'or', 'violence', '.', 'Its', 'is', 'hardcore', ',', 'in', 'the', 'classic', 'use', 'of', 'the', 'word.', '<', 'br', '/', '>', '<', 'br', '/', '>', 'It', 'is', 'called', 'OZ', 'as', 'that', 'is', 'the', 'nickname', 'given', 'to', 'the', 'Oswald', 'Maximum', 'Security', 'State', 'Penitentary', '.', 'It', 'focuses', 'mainly', 'on', 'Emerald', 'City', ',', 'an', 'experimental', 'section', 'of', 'the', 'prison', 'where', 'all', 'the', 'cells', 'have', 'glass', 'fronts', 'and', 'face', 'inwards', ',', 'so', 'privacy', 'is', 'not', 'high', 'on', 'the', 'agenda', '.', 'Em', 'City', 'is', 'home', 'to', 'many', '..', 'Aryans', ',', 'Muslims', ',', 'gangstas', ',', 'Latinos', ',', 'Christians', ',', 'Italians', ',', 'Irish', 'and', 'more', '....', 'so', 'scuffles', ',', 'death', 'stares', ',', 'dodgy', 'dealings', 'and', 'shady', 'agreements', 'are', 'never', 'far', 'away.', '<', 'br', '/', '>', '<', 'br', '/', '>', 'I', 'would', 'say', 'the', 'main', 'appeal', 'of', 'the', 'show', 'is', 'due', 'to', 'the', 'fact', 'that', 'it', 'goes', 'where', 'other', 'shows', 'would', \"n't\", 'dare', '.', 'Forget', 'pretty', 'pictures', 'painted', 'for', 'mainstream', 'audiences', ',', 'forget', 'charm', ',', 'forget', 'romance', '...', 'OZ', 'does', \"n't\", 'mess', 'around', '.', 'The', 'first', 'episode', 'I', 'ever', 'saw', 'struck', 'me', 'as', 'so', 'nasty', 'it', 'was', 'surreal', ',', 'I', 'could', \"n't\", 'say', 'I', 'was', 'ready', 'for', 'it', ',', 'but', 'as', 'I', 'watched', 'more', ',', 'I', 'developed', 'a', 'taste', 'for', 'Oz', ',', 'and', 'got', 'accustomed', 'to', 'the', 'high', 'levels', 'of', 'graphic', 'violence', '.', 'Not', 'just', 'violence', ',', 'but', 'injustice', '(', 'crooked', 'guards', 'who', \"'ll\", 'be', 'sold', 'out', 'for', 'a', 'nickel', ',', 'inmates', 'who', \"'ll\", 'kill', 'on', 'order', 'and', 'get', 'away', 'with', 'it', ',', 'well', 'mannered', ',', 'middle', 'class', 'inmates', 'being', 'turned', 'into', 'prison', 'bitches', 'due', 'to', 'their', 'lack', 'of', 'street', 'skills', 'or', 'prison', 'experience', ')', 'Watching', 'Oz', ',', 'you', 'may', 'become', 'comfortable', 'with', 'what', 'is', 'uncomfortable', 'viewing', '....', 'thats', 'if', 'you', 'can', 'get', 'in', 'touch', 'with', 'your', 'darker', 'side', '.']\n"
     ]
    }
   ],
   "source": [
    "text = imdb['review'][0]\n",
    "print(text)\n",
    "print('<=================================>')\n",
    "print(word_tokenize(text))"
   ]
  },
  {
   "cell_type": "code",
   "execution_count": 6,
   "id": "a78bdbb8",
   "metadata": {},
   "outputs": [],
   "source": [
    "corpus = []\n",
    "for text in imdb['review']:\n",
    "    words = [word.lower() for word in word_tokenize(text)]\n",
    "    corpus.append(words)"
   ]
  },
  {
   "cell_type": "code",
   "execution_count": 7,
   "id": "8c8fdbfa",
   "metadata": {},
   "outputs": [],
   "source": [
    "num_words = len(corpus)"
   ]
  },
  {
   "cell_type": "code",
   "execution_count": 8,
   "id": "e808228d",
   "metadata": {},
   "outputs": [
    {
     "name": "stdout",
     "output_type": "stream",
     "text": [
      "50000\n"
     ]
    }
   ],
   "source": [
    "print(num_words)"
   ]
  },
  {
   "cell_type": "code",
   "execution_count": 9,
   "id": "41ceec0c",
   "metadata": {},
   "outputs": [
    {
     "data": {
      "text/plain": [
       "(50000, 2)"
      ]
     },
     "execution_count": 9,
     "metadata": {},
     "output_type": "execute_result"
    }
   ],
   "source": [
    "imdb.shape"
   ]
  },
  {
   "cell_type": "code",
   "execution_count": 10,
   "id": "42f8ad96",
   "metadata": {},
   "outputs": [],
   "source": [
    "train_size = int(imdb.shape[0]*0.8)\n",
    "X_train = imdb.review[:train_size]\n",
    "Y_train = imdb.sentiment[:train_size]\n",
    "X_test = imdb.review[train_size:]\n",
    "Y_test = imdb.sentiment[train_size:]"
   ]
  },
  {
   "cell_type": "code",
   "execution_count": 11,
   "id": "1b73a00b",
   "metadata": {},
   "outputs": [],
   "source": [
    "tokenizer = Tokenizer(num_words)\n",
    "tokenizer.fit_on_texts(X_train)\n",
    "X_train = tokenizer.texts_to_sequences(X_train)\n",
    "X_train = pad_sequences(X_train , maxlen = 128 , truncating = 'post' , padding = 'post' )"
   ]
  },
  {
   "cell_type": "code",
   "execution_count": 12,
   "id": "6d432426",
   "metadata": {},
   "outputs": [
    {
     "data": {
      "text/plain": [
       "(array([   27,     4,     1,    80,  2102,    45,  1073,    12,   100,\n",
       "          147,    39,   316,  2968,   409,   459,    26,  3173,    33,\n",
       "           23,   200,    14,    11,     6,   614,    48,   606,    16,\n",
       "           68,     7,     7,     1,    87,   148,    12,  3256,    68,\n",
       "           41,  2968,    13,    92,  5626,     2, 16202,   134,     4,\n",
       "          569,    60,   271,     8,   200,    36,     1,   673,   139,\n",
       "         1712,    68,    11,     6,    21,     3,   118,    15,     1,\n",
       "         7870,  2257,    38, 11540,    11,   118,  2495,    54,  5662,\n",
       "           16,  5182,     5,  1438,   377,    38,   569,    92,     6,\n",
       "         3730,     8,     1,   360,   353,     4,     1,   673,     7,\n",
       "            7,     9,     6,   431,  2968,    14,    12,     6,     1,\n",
       "        11736,   356,     5,     1, 14689,  6526,  2594,  1087,     9,\n",
       "         2661,  1432,    20, 22583,   534,    32,  4795,  2451,     4,\n",
       "            1,  1193,   117,    29,     1,  6893,    25,  2874, 12191,\n",
       "            2,   392]),\n",
       " 128)"
      ]
     },
     "execution_count": 12,
     "metadata": {},
     "output_type": "execute_result"
    }
   ],
   "source": [
    "X_train[0],len(X_train[0])"
   ]
  },
  {
   "cell_type": "code",
   "execution_count": 13,
   "id": "1e32d034",
   "metadata": {},
   "outputs": [],
   "source": [
    "X_test = tokenizer.texts_to_sequences(X_test)\n",
    "X_test = pad_sequences(X_test , maxlen = 128 ,truncating = 'post' , padding ='post')"
   ]
  },
  {
   "cell_type": "code",
   "execution_count": 14,
   "id": "6e0b567a",
   "metadata": {},
   "outputs": [
    {
     "data": {
      "text/plain": [
       "(array([   87,   122,    10,   180,     5,   132,    12,    10,  7131,\n",
       "         3717,    20,     1,  1001,  2285,     2,    10,   255,     1,\n",
       "           17,  2431,    10,  1311,     5,   103,     1,   222,  6349,\n",
       "            4,     3,    19,    11,    17,   974,     3,   351,     5,\n",
       "          215,  1011,   415,     9,    13,   215,  1380,    56,   235,\n",
       "          402,   300,     4,   316,    23,   257,    19,   961,    12,\n",
       "        22250,    12,    33,    66,    61,   212,    53,    16,    11,\n",
       "          113,    13,   497,     2,     1,   102,    70,  5358,    15,\n",
       "            1,    88,   172,     1,   473,   824,     8,     1,    64,\n",
       "           67,    54,    49,  2406,    30,    29,    33,    90,    40,\n",
       "        35787,    83,    46,   438,     4,     3,    74,   220,     2,\n",
       "           10,   115,    21,    63,    12,    30,    29,   268,    10,\n",
       "         1059,   137,    10,    78,    21,   119,    28,    13,     1,\n",
       "           88,   175,     5,   728,  3423,   108,     8,     1,    17,\n",
       "           10,   115]),\n",
       " 128)"
      ]
     },
     "execution_count": 14,
     "metadata": {},
     "output_type": "execute_result"
    }
   ],
   "source": [
    "X_test[0],len(X_test[0])"
   ]
  },
  {
   "cell_type": "code",
   "execution_count": 15,
   "id": "9083cd24",
   "metadata": {},
   "outputs": [
    {
     "name": "stdout",
     "output_type": "stream",
     "text": [
      "(40000, 128) (40000,)\n",
      "(10000, 128) (10000,)\n"
     ]
    }
   ],
   "source": [
    "print(X_train.shape , Y_train.shape)\n",
    "print(X_test.shape , Y_test.shape)"
   ]
  },
  {
   "cell_type": "code",
   "execution_count": 16,
   "id": "4b4a6e82",
   "metadata": {},
   "outputs": [],
   "source": [
    "le = LabelEncoder()\n",
    "Y_train = le.fit_transform(Y_train)#used for training data-set\n",
    "Y_test = le.transform(Y_test) #used for test data-set"
   ]
  },
  {
   "cell_type": "code",
   "execution_count": 17,
   "id": "886274c4",
   "metadata": {},
   "outputs": [],
   "source": [
    "model = Sequential()\n",
    "model.add(Embedding(input_dim=num_words , output_dim=100,input_length=128, trainable=True))\n",
    "model.add(LSTM(100,dropout=0.1,return_sequences=True))\n",
    "model.add(LSTM(100,dropout=0.1))\n",
    "model.add(Dense(1,activation='sigmoid'))\n",
    "model.compile(loss='binary_crossentropy',optimizer='adam',metrics = ['accuracy'])"
   ]
  },
  {
   "cell_type": "code",
   "execution_count": 18,
   "id": "26a8bbfb",
   "metadata": {},
   "outputs": [
    {
     "name": "stdout",
     "output_type": "stream",
     "text": [
      "Model: \"sequential\"\n",
      "_________________________________________________________________\n",
      " Layer (type)                Output Shape              Param #   \n",
      "=================================================================\n",
      " embedding (Embedding)       (None, 128, 100)          5000000   \n",
      "                                                                 \n",
      " lstm (LSTM)                 (None, 128, 100)          80400     \n",
      "                                                                 \n",
      " lstm_1 (LSTM)               (None, 100)               80400     \n",
      "                                                                 \n",
      " dense (Dense)               (None, 1)                 101       \n",
      "                                                                 \n",
      "=================================================================\n",
      "Total params: 5,160,901\n",
      "Trainable params: 5,160,901\n",
      "Non-trainable params: 0\n",
      "_________________________________________________________________\n"
     ]
    }
   ],
   "source": [
    "model.summary()"
   ]
  },
  {
   "cell_type": "code",
   "execution_count": 19,
   "id": "a2da39f0",
   "metadata": {},
   "outputs": [
    {
     "name": "stdout",
     "output_type": "stream",
     "text": [
      "Epoch 1/15\n",
      "625/625 [==============================] - 272s 430ms/step - loss: 0.4681 - accuracy: 0.7796 - val_loss: 0.3705 - val_accuracy: 0.8483\n",
      "Epoch 2/15\n",
      "625/625 [==============================] - 259s 414ms/step - loss: 0.2560 - accuracy: 0.9030 - val_loss: 0.3777 - val_accuracy: 0.8475\n",
      "Epoch 3/15\n",
      "625/625 [==============================] - 261s 417ms/step - loss: 0.1599 - accuracy: 0.9449 - val_loss: 0.5407 - val_accuracy: 0.8488\n",
      "Epoch 4/15\n",
      "625/625 [==============================] - 262s 419ms/step - loss: 0.1094 - accuracy: 0.9634 - val_loss: 0.4623 - val_accuracy: 0.8474\n",
      "Epoch 5/15\n",
      "625/625 [==============================] - 261s 417ms/step - loss: 0.0738 - accuracy: 0.9772 - val_loss: 0.5426 - val_accuracy: 0.8482\n",
      "Epoch 6/15\n",
      "625/625 [==============================] - 267s 427ms/step - loss: 0.0538 - accuracy: 0.9838 - val_loss: 0.5666 - val_accuracy: 0.8398\n",
      "Epoch 7/15\n",
      "625/625 [==============================] - 269s 430ms/step - loss: 0.0540 - accuracy: 0.9831 - val_loss: 0.6418 - val_accuracy: 0.8411\n",
      "Epoch 8/15\n",
      "625/625 [==============================] - 273s 438ms/step - loss: 0.0381 - accuracy: 0.9890 - val_loss: 0.7105 - val_accuracy: 0.8488\n",
      "Epoch 9/15\n",
      "625/625 [==============================] - 275s 441ms/step - loss: 0.0299 - accuracy: 0.9909 - val_loss: 0.8169 - val_accuracy: 0.8451\n",
      "Epoch 10/15\n",
      "625/625 [==============================] - 268s 429ms/step - loss: 0.0271 - accuracy: 0.9919 - val_loss: 0.7372 - val_accuracy: 0.8429\n",
      "Epoch 11/15\n",
      "625/625 [==============================] - 273s 437ms/step - loss: 0.0224 - accuracy: 0.9933 - val_loss: 0.8849 - val_accuracy: 0.8402\n",
      "Epoch 12/15\n",
      "625/625 [==============================] - 253s 404ms/step - loss: 0.0169 - accuracy: 0.9950 - val_loss: 0.8276 - val_accuracy: 0.8401\n",
      "Epoch 13/15\n",
      "625/625 [==============================] - 186s 298ms/step - loss: 0.0200 - accuracy: 0.9939 - val_loss: 0.8690 - val_accuracy: 0.8471\n",
      "Epoch 14/15\n",
      "625/625 [==============================] - 205s 327ms/step - loss: 0.0125 - accuracy: 0.9962 - val_loss: 0.8337 - val_accuracy: 0.8367\n",
      "Epoch 15/15\n",
      "625/625 [==============================] - 210s 336ms/step - loss: 0.0177 - accuracy: 0.9946 - val_loss: 0.8508 - val_accuracy: 0.8478\n"
     ]
    }
   ],
   "source": [
    "history = model.fit(X_train , Y_train ,epochs=15,batch_size = 64   , validation_data=(X_test,Y_test))#precision recalll , and F1 score0"
   ]
  },
  {
   "cell_type": "code",
   "execution_count": 20,
   "id": "481d093e",
   "metadata": {},
   "outputs": [
    {
     "data": {
      "image/png": "[encoded data removed]",
      "text/plain": [
       "<Figure size 1600x500 with 1 Axes>"
      ]
     },
     "metadata": {},
     "output_type": "display_data"
    }
   ],
   "source": [
    "plt.figure(figsize=(16,5))\n",
    "epochs = range(1,len(history.history['accuracy'])+1)\n",
    "plt.plot(epochs,history.history['loss'],'b',label='Training Loss',color='red')\n",
    "plt.plot(epochs,history.history['val_loss'],'b',label='Validation Loss')\n",
    "plt.legend()\n",
    "plt.show()"
   ]
  },
  {
   "cell_type": "code",
   "execution_count": 21,
   "id": "6e7a7903",
   "metadata": {},
   "outputs": [
    {
     "data": {
      "image/png": "[encoded data removed]",
      "text/plain": [
       "<Figure size 1600x500 with 1 Axes>"
      ]
     },
     "metadata": {},
     "output_type": "display_data"
    }
   ],
   "source": [
    "plt.figure(figsize=(16,5))\n",
    "epochs = range(1,len(history.history['accuracy'])+1)\n",
    "plt.plot(epochs,history.history['accuracy'],'b',label='Training Accuracy',color='red')\n",
    "plt.plot(epochs,history.history['val_accuracy'],'b',label='Validation Accuracy')\n",
    "plt.legend()\n",
    "plt.show()"
   ]
  },
  {
   "cell_type": "code",
   "execution_count": 26,
   "id": "a5873840",
   "metadata": {},
   "outputs": [
    {
     "name": "stdout",
     "output_type": "stream",
     "text": [
      "it was the worst movie i have ever seen\n",
      "1/1 [==============================] - 0s 25ms/step\n",
      "[0.00016032]\n",
      "Negative ==========>>>>>>>>>>> [0.01603219]\n"
     ]
    }
   ],
   "source": [
    "validation_sentence =['it was the worst movie i have ever seen']\n",
    "validation_sentence_tokened = tokenizer.texts_to_sequences(validation_sentence)\n",
    "validation_sentence_padded = pad_sequences(validation_sentence_tokened , maxlen=128,truncating='post',padding = 'post')\n",
    "print(validation_sentence[0])\n",
    "value = (model.predict(validation_sentence_padded)[0])\n",
    "print(value)\n",
    "if(value>0.5):\n",
    "    print(\" Positive ==========>>>>>>>>>>>\",value*100)\n",
    "elif(value==0.5):\n",
    "    print(\"Neutral ==========>>>>>>>>>>>\" , value*100)\n",
    "else:\n",
    "    print(\"Negative ==========>>>>>>>>>>>\" , value*100)"
   ]
  },
  {
   "cell_type": "code",
   "execution_count": 23,
   "id": "7e522fec",
   "metadata": {},
   "outputs": [
    {
     "name": "stdout",
     "output_type": "stream",
     "text": [
      "I am going to suggest everyone to watch this movie atleast once , it was a great experience \n",
      "1/1 [==============================] - 0s 31ms/step\n",
      "[0.98987174]\n",
      " Positive ==========>>>>>>>>>>> [98.987175]\n"
     ]
    }
   ],
   "source": [
    "validation_sentence = ['I am going to suggest everyone to watch this movie atleast once , it was a great experience ']\n",
    "validation_sentence_tokened = tokenizer.texts_to_sequences(validation_sentence)\n",
    "validation_sentence_padded = pad_sequences(validation_sentence_tokened , maxlen=128,truncating='post',padding = 'post')\n",
    "print(validation_sentence[0])\n",
    "value = (model.predict(validation_sentence_padded)[0])\n",
    "print(value)\n",
    "if(value>0.5):\n",
    "    print(\" Positive ==========>>>>>>>>>>>\",value*100)\n",
    "elif(value==0.5):\n",
    "    print(\"Neutral ==========>>>>>>>>>>>\" , value*100)\n",
    "else:\n",
    "    print(\"Negative ==========>>>>>>>>>>>\" , value*100)"
   ]
  },
  {
   "cell_type": "code",
   "execution_count": 24,
   "id": "52369162",
   "metadata": {},
   "outputs": [
    {
     "name": "stdout",
     "output_type": "stream",
     "text": [
      "I can watch this movie as many time as i can ,I just loved the movie , the dailouges, the vfx, screenplay, casting was so amazing \n",
      "1/1 [==============================] - 0s 31ms/step\n",
      "[0.9757656]\n",
      " Positive ==========>>>>>>>>>>> [97.57656]\n"
     ]
    }
   ],
   "source": [
    "validation_sentence = ['I can watch this movie as many time as i can ,I just loved the movie , the dailouges, the vfx, screenplay, casting was so amazing ']\n",
    "validation_sentence_tokened = tokenizer.texts_to_sequences(validation_sentence)\n",
    "validation_sentence_padded = pad_sequences(validation_sentence_tokened , maxlen=128,truncating='post',padding = 'post')\n",
    "print(validation_sentence[0])\n",
    "value = (model.predict(validation_sentence_padded)[0])\n",
    "print(value)\n",
    "\n",
    "if(value>0.5):\n",
    "    print(\" Positive ==========>>>>>>>>>>>\",value*100)\n",
    "elif(value==0.5):\n",
    "    print(\"Neutral ==========>>>>>>>>>>>\" , value*100)\n",
    "else:\n",
    "    print(\"Negative ==========>>>>>>>>>>>\" , value*100)"
   ]
  }
 ],
 "metadata": {
  "kernelspec": {
   "display_name": "Python 3 (ipykernel)",
   "language": "python",
   "name": "python3"
  },
  "language_info": {
   "codemirror_mode": {
    "name": "ipython",
    "version": 3
   },
   "file_extension": ".py",
   "mimetype": "text/x-python",
   "name": "python",
   "nbconvert_exporter": "python",
   "pygments_lexer": "ipython3",
   "version": "3.9.13"
  }
 },
 "nbformat": 4,
 "nbformat_minor": 5
}
